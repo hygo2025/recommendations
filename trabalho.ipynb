{
  "cells": [
    {
      "cell_type": "code",
      "source": [
        "!mkdir -p datasets/ML_32M\n",
        "!wget https://files.grouplens.org/datasets/movielens/ml-32m.zip -P datasets\n",
        "!unzip datasets/ml-32m.zip -d datasets\n",
        "!mv datasets/ml-32m/* datasets/ML_32M/"
      ],
      "metadata": {
        "colab": {
          "base_uri": "https://localhost:8080/"
        },
        "id": "ANMDxp8uqDCT",
        "outputId": "3f5ce708-c601-4a9f-9c31-4636d3d5134a"
      },
      "id": "ANMDxp8uqDCT",
      "execution_count": 20,
      "outputs": [
        {
          "output_type": "stream",
          "name": "stdout",
          "text": [
            "--2025-03-19 18:38:34--  https://files.grouplens.org/datasets/movielens/ml-32m.zip\n",
            "Resolving files.grouplens.org (files.grouplens.org)... 128.101.65.152\n",
            "Connecting to files.grouplens.org (files.grouplens.org)|128.101.65.152|:443... connected.\n",
            "HTTP request sent, awaiting response... 200 OK\n",
            "Length: 238950008 (228M) [application/zip]\n",
            "Saving to: ‘datasets/ml-32m.zip’\n",
            "\n",
            "ml-32m.zip          100%[===================>] 227.88M  17.4MB/s    in 15s     \n",
            "\n",
            "2025-03-19 18:38:50 (15.5 MB/s) - ‘datasets/ml-32m.zip’ saved [238950008/238950008]\n",
            "\n",
            "Archive:  datasets/ml-32m.zip\n",
            "   creating: datasets/ml-32m/\n",
            "  inflating: datasets/ml-32m/tags.csv  \n",
            "  inflating: datasets/ml-32m/links.csv  \n",
            "  inflating: datasets/ml-32m/README.txt  \n",
            "  inflating: datasets/ml-32m/checksums.txt  \n",
            "  inflating: datasets/ml-32m/ratings.csv  \n",
            "  inflating: datasets/ml-32m/movies.csv  \n"
          ]
        }
      ]
    },
    {
      "cell_type": "code",
      "execution_count": 2,
      "id": "initial_id",
      "metadata": {
        "collapsed": true,
        "colab": {
          "base_uri": "https://localhost:8080/"
        },
        "id": "initial_id",
        "outputId": "e9e8fe55-b3e2-4bb1-e3de-1ea12dc5efd7"
      },
      "outputs": [
        {
          "output_type": "stream",
          "name": "stdout",
          "text": [
            "Requirement already satisfied: pandas in /usr/local/lib/python3.11/dist-packages (2.2.2)\n",
            "Requirement already satisfied: numpy in /usr/local/lib/python3.11/dist-packages (2.0.2)\n",
            "Requirement already satisfied: matplotlib in /usr/local/lib/python3.11/dist-packages (3.10.0)\n",
            "Requirement already satisfied: seaborn in /usr/local/lib/python3.11/dist-packages (0.13.2)\n",
            "Requirement already satisfied: python-dateutil>=2.8.2 in /usr/local/lib/python3.11/dist-packages (from pandas) (2.8.2)\n",
            "Requirement already satisfied: pytz>=2020.1 in /usr/local/lib/python3.11/dist-packages (from pandas) (2025.1)\n",
            "Requirement already satisfied: tzdata>=2022.7 in /usr/local/lib/python3.11/dist-packages (from pandas) (2025.1)\n",
            "Requirement already satisfied: contourpy>=1.0.1 in /usr/local/lib/python3.11/dist-packages (from matplotlib) (1.3.1)\n",
            "Requirement already satisfied: cycler>=0.10 in /usr/local/lib/python3.11/dist-packages (from matplotlib) (0.12.1)\n",
            "Requirement already satisfied: fonttools>=4.22.0 in /usr/local/lib/python3.11/dist-packages (from matplotlib) (4.56.0)\n",
            "Requirement already satisfied: kiwisolver>=1.3.1 in /usr/local/lib/python3.11/dist-packages (from matplotlib) (1.4.8)\n",
            "Requirement already satisfied: packaging>=20.0 in /usr/local/lib/python3.11/dist-packages (from matplotlib) (24.2)\n",
            "Requirement already satisfied: pillow>=8 in /usr/local/lib/python3.11/dist-packages (from matplotlib) (11.1.0)\n",
            "Requirement already satisfied: pyparsing>=2.3.1 in /usr/local/lib/python3.11/dist-packages (from matplotlib) (3.2.1)\n",
            "Requirement already satisfied: six>=1.5 in /usr/local/lib/python3.11/dist-packages (from python-dateutil>=2.8.2->pandas) (1.17.0)\n"
          ]
        }
      ],
      "source": [
        "!pip install pandas numpy matplotlib seaborn"
      ]
    },
    {
      "cell_type": "code",
      "source": [
        "try:  # When on Google Colab, clone the repository to download any necessary cache.\n",
        "    import google.colab\n",
        "    repo_path = 'recommendations'\n",
        "    !git -C $repo_path pull origin || git clone https://github.com/hygo2025/recommendations.git $repo_path\n",
        "except:\n",
        "    repo_path = '.'  # Use the local path if not on Google Colab"
      ],
      "metadata": {
        "colab": {
          "base_uri": "https://localhost:8080/"
        },
        "id": "Q-k6cbxjk5_2",
        "outputId": "e2573ad6-6793-49f7-f8ea-43c55db2446b"
      },
      "id": "Q-k6cbxjk5_2",
      "execution_count": 3,
      "outputs": [
        {
          "output_type": "stream",
          "name": "stdout",
          "text": [
            "fatal: cannot change to 'recommendations': No such file or directory\n",
            "Cloning into 'recommendations'...\n",
            "remote: Enumerating objects: 357, done.\u001b[K\n",
            "remote: Counting objects: 100% (357/357), done.\u001b[K\n",
            "remote: Compressing objects: 100% (210/210), done.\u001b[K\n",
            "remote: Total 357 (delta 138), reused 339 (delta 120), pack-reused 0 (from 0)\u001b[K\n",
            "Receiving objects: 100% (357/357), 30.21 MiB | 15.58 MiB/s, done.\n",
            "Resolving deltas: 100% (138/138), done.\n"
          ]
        }
      ]
    },
    {
      "cell_type": "code",
      "source": [
        "# %%capture\n",
        "!pip install -r recommendations/requirements.txt"
      ],
      "metadata": {
        "colab": {
          "base_uri": "https://localhost:8080/"
        },
        "id": "soaceSwklIPP",
        "outputId": "23779d12-c440-4039-c489-36bc9721dc36"
      },
      "id": "soaceSwklIPP",
      "execution_count": 4,
      "outputs": [
        {
          "output_type": "stream",
          "name": "stdout",
          "text": [
            "Looking in indexes: https://pypi.org/simple, https://download.pytorch.org/whl/nightly/cu128\n",
            "Requirement already satisfied: pandas in /usr/local/lib/python3.11/dist-packages (from -r recommendations/requirements.txt (line 1)) (2.2.2)\n",
            "Requirement already satisfied: numpy in /usr/local/lib/python3.11/dist-packages (from -r recommendations/requirements.txt (line 2)) (2.0.2)\n",
            "Requirement already satisfied: requests in /usr/local/lib/python3.11/dist-packages (from -r recommendations/requirements.txt (line 3)) (2.32.3)\n",
            "Collecting dynaconf (from -r recommendations/requirements.txt (line 4))\n",
            "  Downloading dynaconf-3.2.10-py2.py3-none-any.whl.metadata (9.1 kB)\n",
            "Requirement already satisfied: scipy in /usr/local/lib/python3.11/dist-packages (from -r recommendations/requirements.txt (line 5)) (1.14.1)\n",
            "Requirement already satisfied: pyarrow in /usr/local/lib/python3.11/dist-packages (from -r recommendations/requirements.txt (line 6)) (18.1.0)\n",
            "Requirement already satisfied: grpcio in /usr/local/lib/python3.11/dist-packages (from -r recommendations/requirements.txt (line 7)) (1.71.0)\n",
            "Requirement already satisfied: protobuf in /usr/local/lib/python3.11/dist-packages (from -r recommendations/requirements.txt (line 8)) (4.25.6)\n",
            "Requirement already satisfied: grpcio-status in /usr/local/lib/python3.11/dist-packages (from -r recommendations/requirements.txt (line 9)) (1.62.3)\n",
            "Requirement already satisfied: numba in /usr/local/lib/python3.11/dist-packages (from -r recommendations/requirements.txt (line 10)) (0.60.0)\n",
            "Requirement already satisfied: tqdm in /usr/local/lib/python3.11/dist-packages (from -r recommendations/requirements.txt (line 11)) (4.67.1)\n",
            "Requirement already satisfied: torch in /usr/local/lib/python3.11/dist-packages (from -r recommendations/requirements.txt (line 14)) (2.6.0+cu124)\n",
            "Requirement already satisfied: torchvision in /usr/local/lib/python3.11/dist-packages (from -r recommendations/requirements.txt (line 15)) (0.21.0+cu124)\n",
            "Requirement already satisfied: torchaudio in /usr/local/lib/python3.11/dist-packages (from -r recommendations/requirements.txt (line 16)) (2.6.0+cu124)\n",
            "Requirement already satisfied: python-dateutil>=2.8.2 in /usr/local/lib/python3.11/dist-packages (from pandas->-r recommendations/requirements.txt (line 1)) (2.8.2)\n",
            "Requirement already satisfied: pytz>=2020.1 in /usr/local/lib/python3.11/dist-packages (from pandas->-r recommendations/requirements.txt (line 1)) (2025.1)\n",
            "Requirement already satisfied: tzdata>=2022.7 in /usr/local/lib/python3.11/dist-packages (from pandas->-r recommendations/requirements.txt (line 1)) (2025.1)\n",
            "Requirement already satisfied: charset-normalizer<4,>=2 in /usr/local/lib/python3.11/dist-packages (from requests->-r recommendations/requirements.txt (line 3)) (3.4.1)\n",
            "Requirement already satisfied: idna<4,>=2.5 in /usr/local/lib/python3.11/dist-packages (from requests->-r recommendations/requirements.txt (line 3)) (3.10)\n",
            "Requirement already satisfied: urllib3<3,>=1.21.1 in /usr/local/lib/python3.11/dist-packages (from requests->-r recommendations/requirements.txt (line 3)) (2.3.0)\n",
            "Requirement already satisfied: certifi>=2017.4.17 in /usr/local/lib/python3.11/dist-packages (from requests->-r recommendations/requirements.txt (line 3)) (2025.1.31)\n",
            "Requirement already satisfied: googleapis-common-protos>=1.5.5 in /usr/local/lib/python3.11/dist-packages (from grpcio-status->-r recommendations/requirements.txt (line 9)) (1.69.1)\n",
            "Requirement already satisfied: llvmlite<0.44,>=0.43.0dev0 in /usr/local/lib/python3.11/dist-packages (from numba->-r recommendations/requirements.txt (line 10)) (0.43.0)\n",
            "Requirement already satisfied: filelock in /usr/local/lib/python3.11/dist-packages (from torch->-r recommendations/requirements.txt (line 14)) (3.17.0)\n",
            "Requirement already satisfied: typing-extensions>=4.10.0 in /usr/local/lib/python3.11/dist-packages (from torch->-r recommendations/requirements.txt (line 14)) (4.12.2)\n",
            "Requirement already satisfied: networkx in /usr/local/lib/python3.11/dist-packages (from torch->-r recommendations/requirements.txt (line 14)) (3.4.2)\n",
            "Requirement already satisfied: jinja2 in /usr/local/lib/python3.11/dist-packages (from torch->-r recommendations/requirements.txt (line 14)) (3.1.6)\n",
            "Requirement already satisfied: fsspec in /usr/local/lib/python3.11/dist-packages (from torch->-r recommendations/requirements.txt (line 14)) (2024.10.0)\n",
            "Collecting nvidia-cuda-nvrtc-cu12==12.4.127 (from torch->-r recommendations/requirements.txt (line 14))\n",
            "  Downloading nvidia_cuda_nvrtc_cu12-12.4.127-py3-none-manylinux2014_x86_64.whl.metadata (1.5 kB)\n",
            "Collecting nvidia-cuda-runtime-cu12==12.4.127 (from torch->-r recommendations/requirements.txt (line 14))\n",
            "  Downloading nvidia_cuda_runtime_cu12-12.4.127-py3-none-manylinux2014_x86_64.whl.metadata (1.5 kB)\n",
            "Collecting nvidia-cuda-cupti-cu12==12.4.127 (from torch->-r recommendations/requirements.txt (line 14))\n",
            "  Downloading nvidia_cuda_cupti_cu12-12.4.127-py3-none-manylinux2014_x86_64.whl.metadata (1.6 kB)\n",
            "Collecting nvidia-cudnn-cu12==9.1.0.70 (from torch->-r recommendations/requirements.txt (line 14))\n",
            "  Downloading nvidia_cudnn_cu12-9.1.0.70-py3-none-manylinux2014_x86_64.whl.metadata (1.6 kB)\n",
            "Collecting nvidia-cublas-cu12==12.4.5.8 (from torch->-r recommendations/requirements.txt (line 14))\n",
            "  Downloading nvidia_cublas_cu12-12.4.5.8-py3-none-manylinux2014_x86_64.whl.metadata (1.5 kB)\n",
            "Collecting nvidia-cufft-cu12==11.2.1.3 (from torch->-r recommendations/requirements.txt (line 14))\n",
            "  Downloading nvidia_cufft_cu12-11.2.1.3-py3-none-manylinux2014_x86_64.whl.metadata (1.5 kB)\n",
            "Collecting nvidia-curand-cu12==10.3.5.147 (from torch->-r recommendations/requirements.txt (line 14))\n",
            "  Downloading nvidia_curand_cu12-10.3.5.147-py3-none-manylinux2014_x86_64.whl.metadata (1.5 kB)\n",
            "Collecting nvidia-cusolver-cu12==11.6.1.9 (from torch->-r recommendations/requirements.txt (line 14))\n",
            "  Downloading nvidia_cusolver_cu12-11.6.1.9-py3-none-manylinux2014_x86_64.whl.metadata (1.6 kB)\n",
            "Collecting nvidia-cusparse-cu12==12.3.1.170 (from torch->-r recommendations/requirements.txt (line 14))\n",
            "  Downloading nvidia_cusparse_cu12-12.3.1.170-py3-none-manylinux2014_x86_64.whl.metadata (1.6 kB)\n",
            "Requirement already satisfied: nvidia-cusparselt-cu12==0.6.2 in /usr/local/lib/python3.11/dist-packages (from torch->-r recommendations/requirements.txt (line 14)) (0.6.2)\n",
            "Requirement already satisfied: nvidia-nccl-cu12==2.21.5 in /usr/local/lib/python3.11/dist-packages (from torch->-r recommendations/requirements.txt (line 14)) (2.21.5)\n",
            "Requirement already satisfied: nvidia-nvtx-cu12==12.4.127 in /usr/local/lib/python3.11/dist-packages (from torch->-r recommendations/requirements.txt (line 14)) (12.4.127)\n",
            "Collecting nvidia-nvjitlink-cu12==12.4.127 (from torch->-r recommendations/requirements.txt (line 14))\n",
            "  Downloading nvidia_nvjitlink_cu12-12.4.127-py3-none-manylinux2014_x86_64.whl.metadata (1.5 kB)\n",
            "Requirement already satisfied: triton==3.2.0 in /usr/local/lib/python3.11/dist-packages (from torch->-r recommendations/requirements.txt (line 14)) (3.2.0)\n",
            "Requirement already satisfied: sympy==1.13.1 in /usr/local/lib/python3.11/dist-packages (from torch->-r recommendations/requirements.txt (line 14)) (1.13.1)\n",
            "Requirement already satisfied: mpmath<1.4,>=1.1.0 in /usr/local/lib/python3.11/dist-packages (from sympy==1.13.1->torch->-r recommendations/requirements.txt (line 14)) (1.3.0)\n",
            "Requirement already satisfied: pillow!=8.3.*,>=5.3.0 in /usr/local/lib/python3.11/dist-packages (from torchvision->-r recommendations/requirements.txt (line 15)) (11.1.0)\n",
            "Requirement already satisfied: six>=1.5 in /usr/local/lib/python3.11/dist-packages (from python-dateutil>=2.8.2->pandas->-r recommendations/requirements.txt (line 1)) (1.17.0)\n",
            "Requirement already satisfied: MarkupSafe>=2.0 in /usr/local/lib/python3.11/dist-packages (from jinja2->torch->-r recommendations/requirements.txt (line 14)) (3.0.2)\n",
            "Downloading dynaconf-3.2.10-py2.py3-none-any.whl (236 kB)\n",
            "\u001b[2K   \u001b[90m━━━━━━━━━━━━━━━━━━━━━━━━━━━━━━━━━━━━━━━━\u001b[0m \u001b[32m236.2/236.2 kB\u001b[0m \u001b[31m16.1 MB/s\u001b[0m eta \u001b[36m0:00:00\u001b[0m\n",
            "\u001b[?25hDownloading nvidia_cublas_cu12-12.4.5.8-py3-none-manylinux2014_x86_64.whl (363.4 MB)\n",
            "\u001b[2K   \u001b[90m━━━━━━━━━━━━━━━━━━━━━━━━━━━━━━━━━━━━━━━━\u001b[0m \u001b[32m363.4/363.4 MB\u001b[0m \u001b[31m2.5 MB/s\u001b[0m eta \u001b[36m0:00:00\u001b[0m\n",
            "\u001b[?25hDownloading nvidia_cuda_cupti_cu12-12.4.127-py3-none-manylinux2014_x86_64.whl (13.8 MB)\n",
            "\u001b[2K   \u001b[90m━━━━━━━━━━━━━━━━━━━━━━━━━━━━━━━━━━━━━━━━\u001b[0m \u001b[32m13.8/13.8 MB\u001b[0m \u001b[31m115.8 MB/s\u001b[0m eta \u001b[36m0:00:00\u001b[0m\n",
            "\u001b[?25hDownloading nvidia_cuda_nvrtc_cu12-12.4.127-py3-none-manylinux2014_x86_64.whl (24.6 MB)\n",
            "\u001b[2K   \u001b[90m━━━━━━━━━━━━━━━━━━━━━━━━━━━━━━━━━━━━━━━━\u001b[0m \u001b[32m24.6/24.6 MB\u001b[0m \u001b[31m61.6 MB/s\u001b[0m eta \u001b[36m0:00:00\u001b[0m\n",
            "\u001b[?25hDownloading nvidia_cuda_runtime_cu12-12.4.127-py3-none-manylinux2014_x86_64.whl (883 kB)\n",
            "\u001b[2K   \u001b[90m━━━━━━━━━━━━━━━━━━━━━━━━━━━━━━━━━━━━━━━━\u001b[0m \u001b[32m883.7/883.7 kB\u001b[0m \u001b[31m51.8 MB/s\u001b[0m eta \u001b[36m0:00:00\u001b[0m\n",
            "\u001b[?25hDownloading nvidia_cudnn_cu12-9.1.0.70-py3-none-manylinux2014_x86_64.whl (664.8 MB)\n",
            "\u001b[2K   \u001b[90m━━━━━━━━━━━━━━━━━━━━━━━━━━━━━━━━━━━━━━━━\u001b[0m \u001b[32m664.8/664.8 MB\u001b[0m \u001b[31m1.6 MB/s\u001b[0m eta \u001b[36m0:00:00\u001b[0m\n",
            "\u001b[?25hDownloading nvidia_cufft_cu12-11.2.1.3-py3-none-manylinux2014_x86_64.whl (211.5 MB)\n",
            "\u001b[2K   \u001b[90m━━━━━━━━━━━━━━━━━━━━━━━━━━━━━━━━━━━━━━━━\u001b[0m \u001b[32m211.5/211.5 MB\u001b[0m \u001b[31m3.9 MB/s\u001b[0m eta \u001b[36m0:00:00\u001b[0m\n",
            "\u001b[?25hDownloading nvidia_curand_cu12-10.3.5.147-py3-none-manylinux2014_x86_64.whl (56.3 MB)\n",
            "\u001b[2K   \u001b[90m━━━━━━━━━━━━━━━━━━━━━━━━━━━━━━━━━━━━━━━━\u001b[0m \u001b[32m56.3/56.3 MB\u001b[0m \u001b[31m37.2 MB/s\u001b[0m eta \u001b[36m0:00:00\u001b[0m\n",
            "\u001b[?25hDownloading nvidia_cusolver_cu12-11.6.1.9-py3-none-manylinux2014_x86_64.whl (127.9 MB)\n",
            "\u001b[2K   \u001b[90m━━━━━━━━━━━━━━━━━━━━━━━━━━━━━━━━━━━━━━━━\u001b[0m \u001b[32m127.9/127.9 MB\u001b[0m \u001b[31m15.7 MB/s\u001b[0m eta \u001b[36m0:00:00\u001b[0m\n",
            "\u001b[?25hDownloading nvidia_cusparse_cu12-12.3.1.170-py3-none-manylinux2014_x86_64.whl (207.5 MB)\n",
            "\u001b[2K   \u001b[90m━━━━━━━━━━━━━━━━━━━━━━━━━━━━━━━━━━━━━━━━\u001b[0m \u001b[32m207.5/207.5 MB\u001b[0m \u001b[31m4.9 MB/s\u001b[0m eta \u001b[36m0:00:00\u001b[0m\n",
            "\u001b[?25hDownloading nvidia_nvjitlink_cu12-12.4.127-py3-none-manylinux2014_x86_64.whl (21.1 MB)\n",
            "\u001b[2K   \u001b[90m━━━━━━━━━━━━━━━━━━━━━━━━━━━━━━━━━━━━━━━━\u001b[0m \u001b[32m21.1/21.1 MB\u001b[0m \u001b[31m95.3 MB/s\u001b[0m eta \u001b[36m0:00:00\u001b[0m\n",
            "\u001b[?25hInstalling collected packages: nvidia-nvjitlink-cu12, nvidia-curand-cu12, nvidia-cufft-cu12, nvidia-cuda-runtime-cu12, nvidia-cuda-nvrtc-cu12, nvidia-cuda-cupti-cu12, nvidia-cublas-cu12, dynaconf, nvidia-cusparse-cu12, nvidia-cudnn-cu12, nvidia-cusolver-cu12\n",
            "  Attempting uninstall: nvidia-nvjitlink-cu12\n",
            "    Found existing installation: nvidia-nvjitlink-cu12 12.5.82\n",
            "    Uninstalling nvidia-nvjitlink-cu12-12.5.82:\n",
            "      Successfully uninstalled nvidia-nvjitlink-cu12-12.5.82\n",
            "  Attempting uninstall: nvidia-curand-cu12\n",
            "    Found existing installation: nvidia-curand-cu12 10.3.6.82\n",
            "    Uninstalling nvidia-curand-cu12-10.3.6.82:\n",
            "      Successfully uninstalled nvidia-curand-cu12-10.3.6.82\n",
            "  Attempting uninstall: nvidia-cufft-cu12\n",
            "    Found existing installation: nvidia-cufft-cu12 11.2.3.61\n",
            "    Uninstalling nvidia-cufft-cu12-11.2.3.61:\n",
            "      Successfully uninstalled nvidia-cufft-cu12-11.2.3.61\n",
            "  Attempting uninstall: nvidia-cuda-runtime-cu12\n",
            "    Found existing installation: nvidia-cuda-runtime-cu12 12.5.82\n",
            "    Uninstalling nvidia-cuda-runtime-cu12-12.5.82:\n",
            "      Successfully uninstalled nvidia-cuda-runtime-cu12-12.5.82\n",
            "  Attempting uninstall: nvidia-cuda-nvrtc-cu12\n",
            "    Found existing installation: nvidia-cuda-nvrtc-cu12 12.5.82\n",
            "    Uninstalling nvidia-cuda-nvrtc-cu12-12.5.82:\n",
            "      Successfully uninstalled nvidia-cuda-nvrtc-cu12-12.5.82\n",
            "  Attempting uninstall: nvidia-cuda-cupti-cu12\n",
            "    Found existing installation: nvidia-cuda-cupti-cu12 12.5.82\n",
            "    Uninstalling nvidia-cuda-cupti-cu12-12.5.82:\n",
            "      Successfully uninstalled nvidia-cuda-cupti-cu12-12.5.82\n",
            "  Attempting uninstall: nvidia-cublas-cu12\n",
            "    Found existing installation: nvidia-cublas-cu12 12.5.3.2\n",
            "    Uninstalling nvidia-cublas-cu12-12.5.3.2:\n",
            "      Successfully uninstalled nvidia-cublas-cu12-12.5.3.2\n",
            "  Attempting uninstall: nvidia-cusparse-cu12\n",
            "    Found existing installation: nvidia-cusparse-cu12 12.5.1.3\n",
            "    Uninstalling nvidia-cusparse-cu12-12.5.1.3:\n",
            "      Successfully uninstalled nvidia-cusparse-cu12-12.5.1.3\n",
            "  Attempting uninstall: nvidia-cudnn-cu12\n",
            "    Found existing installation: nvidia-cudnn-cu12 9.3.0.75\n",
            "    Uninstalling nvidia-cudnn-cu12-9.3.0.75:\n",
            "      Successfully uninstalled nvidia-cudnn-cu12-9.3.0.75\n",
            "  Attempting uninstall: nvidia-cusolver-cu12\n",
            "    Found existing installation: nvidia-cusolver-cu12 11.6.3.83\n",
            "    Uninstalling nvidia-cusolver-cu12-11.6.3.83:\n",
            "      Successfully uninstalled nvidia-cusolver-cu12-11.6.3.83\n",
            "Successfully installed dynaconf-3.2.10 nvidia-cublas-cu12-12.4.5.8 nvidia-cuda-cupti-cu12-12.4.127 nvidia-cuda-nvrtc-cu12-12.4.127 nvidia-cuda-runtime-cu12-12.4.127 nvidia-cudnn-cu12-9.1.0.70 nvidia-cufft-cu12-11.2.1.3 nvidia-curand-cu12-10.3.5.147 nvidia-cusolver-cu12-11.6.1.9 nvidia-cusparse-cu12-12.3.1.170 nvidia-nvjitlink-cu12-12.4.127\n"
          ]
        }
      ]
    },
    {
      "cell_type": "code",
      "source": [
        "# %%capture\n",
        "import pkg_resources\n",
        "!pip install -e $repo_path"
      ],
      "metadata": {
        "colab": {
          "base_uri": "https://localhost:8080/"
        },
        "id": "F-dmREhelKLe",
        "outputId": "e3db9910-ffa6-4123-e2d3-dbe0df1b9ed7"
      },
      "id": "F-dmREhelKLe",
      "execution_count": 5,
      "outputs": [
        {
          "output_type": "stream",
          "name": "stderr",
          "text": [
            "<ipython-input-5-d4ee8d73c6c9>:2: DeprecationWarning: pkg_resources is deprecated as an API. See https://setuptools.pypa.io/en/latest/pkg_resources.html\n",
            "  import pkg_resources\n"
          ]
        },
        {
          "output_type": "stream",
          "name": "stdout",
          "text": [
            "Obtaining file:///content/recommendations\n",
            "  Installing build dependencies ... \u001b[?25l\u001b[?25hdone\n",
            "  Checking if build backend supports build_editable ... \u001b[?25l\u001b[?25hdone\n",
            "  Getting requirements to build editable ... \u001b[?25l\u001b[?25hdone\n",
            "  Preparing editable metadata (pyproject.toml) ... \u001b[?25l\u001b[?25hdone\n",
            "Building wheels for collected packages: main\n",
            "  Building editable for main (pyproject.toml) ... \u001b[?25l\u001b[?25hdone\n",
            "  Created wheel for main: filename=main-0.0.0-0.editable-py3-none-any.whl size=1129 sha256=0d7d36282fb2e15cd95cab4f73d04ad69e6cd6619efb46728cee78efafe70e7b\n",
            "  Stored in directory: /tmp/pip-ephem-wheel-cache-rw99l6v7/wheels/98/05/aa/a4754fa06fb9f7ae60fc0c4633aabd811ffd6928eef2f430a3\n",
            "Successfully built main\n",
            "Installing collected packages: main\n",
            "Successfully installed main-0.0.0\n"
          ]
        }
      ]
    },
    {
      "cell_type": "code",
      "source": [
        "# configurar as variáveis de ambiente\n",
        "import os\n",
        "\n",
        "os.environ[\"DOWNLOAD_FOLDER\"] = \"/content/datasets\""
      ],
      "metadata": {
        "id": "jJ2oUDlblygw"
      },
      "id": "jJ2oUDlblygw",
      "execution_count": 6,
      "outputs": []
    },
    {
      "cell_type": "code",
      "source": [
        "import sys\n",
        "import os\n",
        "import pkg_resources\n",
        "\n",
        "if repo_path not in sys.path:\n",
        "    sys.path.append(repo_path)"
      ],
      "metadata": {
        "id": "bK8YIrr0mp3k"
      },
      "id": "bK8YIrr0mp3k",
      "execution_count": 7,
      "outputs": []
    },
    {
      "cell_type": "code",
      "source": [
        "import recommendations"
      ],
      "metadata": {
        "id": "P0BLzdB-mrVl"
      },
      "id": "P0BLzdB-mrVl",
      "execution_count": 8,
      "outputs": []
    },
    {
      "cell_type": "code",
      "source": [
        "import copy\n",
        "import torch\n",
        "from datetime import datetime\n",
        "from typing import Optional\n",
        "\n",
        "import numpy as np\n",
        "\n",
        "from src.models.evaluation import Evaluator\n",
        "from src.models.sasrec import defaults\n",
        "from src.models.sasrec.data.movielens_data_setup import MovieLensDataSetup\n",
        "from src.models.sasrec.data.movielens_dataset import MovielensDataSet\n",
        "from src.models.sasrec.m_model.sampler import packed_sequence_batch_sampler\n",
        "from src.models.sasrec.m_model.sasrec_recommender import SASRecModel\n",
        "from src.models.sasrec.utils import save_config, dump_trial_results, fix_torch_seed\n",
        "from src.utils.enums import MovieLensDataset, TargetMetric\n",
        "from src.utils.logger import Logger"
      ],
      "metadata": {
        "id": "wk0yk1FcmktA"
      },
      "id": "wk0yk1FcmktA",
      "execution_count": 9,
      "outputs": []
    },
    {
      "cell_type": "code",
      "source": [
        "class TrialStopException(Exception):\n",
        "    \"\"\"Generic exception raised for errors in trials.\"\"\"\n",
        "    def __init__(self):\n",
        "        self.message = f'Stopping the trial. Reason: {self.__class__.__name__}'\n",
        "        super().__init__(self.message)\n",
        "\n",
        "\n",
        "class EarlyStopping(TrialStopException):\n",
        "    pass"
      ],
      "metadata": {
        "id": "0cbboRormm07"
      },
      "id": "0cbboRormm07",
      "execution_count": 10,
      "outputs": []
    },
    {
      "cell_type": "code",
      "source": [
        "\n",
        "def return_config() -> dict:\n",
        "    return {\n",
        "        'batch_size': 512,\n",
        "        'learning_rate': 0.01,\n",
        "        'hidden_units': 128,\n",
        "        'num_blocks': 3,\n",
        "        'dropout_rate': 0.2,\n",
        "        'num_heads': 2,\n",
        "        'l2_emb': 0.0,\n",
        "        'maxlen': 200,\n",
        "        'batch_quota': None,\n",
        "        'seed': 0,\n",
        "        'sampler_seed': 789,\n",
        "        'device': None,\n",
        "        'max_epochs': 200\n",
        "    }\n"
      ],
      "metadata": {
        "id": "DfoMFWvzm37A"
      },
      "id": "DfoMFWvzm37A",
      "execution_count": 11,
      "outputs": []
    },
    {
      "cell_type": "code",
      "source": [
        "\n",
        "def train_data_format(model_name):\n",
        "    sequential_packed = ['sasrec']\n",
        "    sequential = []\n",
        "    sequential_typed = []\n",
        "    if model_name in sequential:\n",
        "        return 'sequential'  # pandas Series\n",
        "    if model_name in sequential_packed:\n",
        "        return 'sequential_packed'  # csr-like format\n",
        "    if model_name in sequential_typed:\n",
        "        return 'sequential_typed'  # numba dict\n",
        "    return 'default'\n"
      ],
      "metadata": {
        "id": "Lgnt4Yo-nD4J"
      },
      "id": "Lgnt4Yo-nD4J",
      "execution_count": 12,
      "outputs": []
    },
    {
      "cell_type": "code",
      "source": [
        "def test_data_format(next_item_only):\n",
        "    if next_item_only:\n",
        "        return ('interactions', dict(stepwise=True, max_steps=1))\n",
        "    return 'sequential'"
      ],
      "metadata": {
        "id": "rgLE0xLPnF_K"
      },
      "id": "rgLE0xLPnF_K",
      "execution_count": 13,
      "outputs": []
    },
    {
      "cell_type": "code",
      "source": [
        "\n",
        "class SasRecRunner:\n",
        "    def __init__(self,\n",
        "                 model: str = 'sasrec',\n",
        "                 dataset: MovieLensDataset = MovieLensDataset.ML_32M,\n",
        "                 time_offset: float = 0.95,\n",
        "                 target_metric: TargetMetric = TargetMetric.NDCG,\n",
        "                 topn: int = 10,\n",
        "                 config_path: Optional[str] = None,\n",
        "                 exhaustive: bool = False,\n",
        "                 grid_steps: Optional[int] = None,  # 0 significa execução infinita; None usará o valor padrão\n",
        "                 check_best: bool = True,\n",
        "                 save_config: bool = True,\n",
        "                 dump_results: bool = False,\n",
        "                 es_tol: float = 0.001,\n",
        "                 es_max_steps: int = 2,\n",
        "                 next_item_only: bool = False,\n",
        "                 study_name: Optional[str] = None,\n",
        "                 storage: str = 'redis'  # Valores permitidos: 'sqlite' ou 'redis'\n",
        "                 ):\n",
        "        self.model = model\n",
        "        self.dataset = dataset\n",
        "        self.time_offset = time_offset\n",
        "        self.target_metric = target_metric\n",
        "        self.topn = topn\n",
        "        self.config_path = config_path\n",
        "        self.exhaustive = exhaustive\n",
        "        self.grid_steps = grid_steps\n",
        "        self.check_best = check_best\n",
        "        self.save_config = save_config\n",
        "        self.dump_results = dump_results\n",
        "        self.es_tol = es_tol\n",
        "        self.es_max_steps = es_max_steps\n",
        "        self.next_item_only = next_item_only\n",
        "        self.study_name = study_name\n",
        "        self.storage = storage\n",
        "        self.logger = Logger.get_logger(\"SasRecRunner\")\n",
        "\n",
        "    def _load_adjusted_state_dict(self, model, state_dict):\n",
        "        \"\"\"\n",
        "        Ajusta o state_dict para que o tamanho do embedding de itens seja compatível com o modelo atual.\n",
        "        Caso haja size mismatch na chave 'item_emb.weight', os pesos do checkpoint serão copiados para os índices correspondentes\n",
        "        e os itens extras manterão os pesos iniciais.\n",
        "        \"\"\"\n",
        "        key = \"item_emb.weight\"\n",
        "        if key in state_dict:\n",
        "            ckpt_weight = state_dict[key]\n",
        "            current_weight = model.item_emb.weight\n",
        "            if ckpt_weight.shape != current_weight.shape:\n",
        "                self.logger.info(\n",
        "                    f\"Ajustando tamanho do '{key}': checkpoint {ckpt_weight.shape} -> atual {current_weight.shape}\"\n",
        "                )\n",
        "                # Cria uma nova matriz com os pesos atuais\n",
        "                new_weight = current_weight.data.clone()\n",
        "                n_copy = min(ckpt_weight.shape[0], current_weight.shape[0])\n",
        "                new_weight[:n_copy] = ckpt_weight[:n_copy]\n",
        "                state_dict[key] = new_weight\n",
        "        # Carrega o state_dict ajustado de forma estrita (agora devem bater as dimensões)\n",
        "        model.load_state_dict(state_dict, strict=True)\n",
        "\n",
        "    def _train_model(self, datapack, config):\n",
        "        \"\"\"\n",
        "        Treina o modelo no conjunto de dados de treino/validação e retorna:\n",
        "         - best_model_state: pesos do melhor modelo (usando deep copy)\n",
        "         - score: score obtido com o target metric no melhor ponto de validação\n",
        "         - results: resultados completos da última avaliação\n",
        "         - evaluator: instância do avaliador utilizada\n",
        "         - n_items: número de itens (para criação do modelo)\n",
        "         - dataset: instância do MovielensDataSet utilizada\n",
        "        \"\"\"\n",
        "        # Instancia o dataset e inicializa os formatos\n",
        "        dataset = MovielensDataSet(\n",
        "            datapack,\n",
        "            dataset_name=self.dataset,\n",
        "            train_format='sequential_packed',\n",
        "            test_format='sequential'\n",
        "        )\n",
        "        dataset.initialize_formats({'train': 'sequential'})\n",
        "        dataset.info()\n",
        "\n",
        "        evaluator = Evaluator(dataset, self.topn)\n",
        "        self.logger.info(f\"Starting training with configuration: {config}\")\n",
        "        self.logger.info(f\"Target metric: {self.target_metric.value.upper()}@{self.topn}\")\n",
        "\n",
        "        n_items = len(dataset.item_index)\n",
        "        fix_torch_seed(config.get('seed', None))\n",
        "        model = SASRecModel(config, n_items)\n",
        "\n",
        "        indices, sizes = dataset.train\n",
        "        sampler = packed_sequence_batch_sampler(\n",
        "            indices, sizes, n_items,\n",
        "            batch_size=config['batch_size'],\n",
        "            maxlen=config['maxlen'],\n",
        "            seed=config['sampler_seed'],\n",
        "        )\n",
        "        n_batches = (len(sizes) - 1) // config['batch_size']\n",
        "\n",
        "        max_epochs = config['max_epochs']\n",
        "        validation_interval = defaults.validation_interval\n",
        "        if validation_interval > max_epochs:\n",
        "            raise ValueError(\"Número de épocas é muito pequeno para realizar validação.\")\n",
        "\n",
        "        best_score = -np.inf\n",
        "        best_model_state = None\n",
        "\n",
        "        for epoch in range(max_epochs):\n",
        "            self.logger.info(f\"Processando época {epoch + 1}/{max_epochs}\")\n",
        "            loss = model.train_epoch(sampler, n_batches)\n",
        "            if (epoch + 1) % validation_interval == 0:\n",
        "                try:\n",
        "                    evaluator.submit(model, step=epoch, args=(loss,))\n",
        "                    # Recupera os resultados da avaliação recente\n",
        "                    curr_results = evaluator.most_recent_results\n",
        "                    curr_score = curr_results.loc[f'{self.target_metric.value.upper()}@{self.topn}', 'score']\n",
        "                    self.logger.info(f\"Época {epoch + 1}: Loss = {loss:.4f}, Validação = {curr_score:.4f}\")\n",
        "                    if curr_score > best_score:\n",
        "                        best_score = curr_score\n",
        "                        best_model_state = copy.deepcopy(model.model.state_dict())\n",
        "                        self.logger.info(f\"Melhor modelo atualizado na época {epoch + 1} com score {curr_score:.4f}\")\n",
        "                except EarlyStopping:\n",
        "                    self.logger.info(\"Early stopping acionado.\")\n",
        "                    break\n",
        "\n",
        "        if best_model_state is None:\n",
        "            self.logger.warning(\"Nenhum modelo foi salvo durante o treinamento; usando o estado final do modelo.\")\n",
        "            best_model_state = model.model.state_dict()\n",
        "\n",
        "        # Tenta recuperar os resultados associados ao melhor modelo\n",
        "        try:\n",
        "            best_results = evaluator.results['best']\n",
        "            results = evaluator.results[best_results['step']]\n",
        "        except KeyError:\n",
        "            results = evaluator.most_recent_results\n",
        "\n",
        "        score = results.loc[f'{self.target_metric.value.upper()}@{self.topn}', 'score']\n",
        "        return best_model_state, score, results, evaluator, n_items, dataset\n",
        "\n",
        "    def _evaluate_model(self, datapack, config, model_state):\n",
        "        \"\"\"\n",
        "        Avalia o modelo no conjunto de teste.\n",
        "        Retorna:\n",
        "         - score: score obtido no conjunto de teste\n",
        "         - results: resultados completos da avaliação\n",
        "         - evaluator: instância do avaliador utilizada\n",
        "         - dataset: instância do MovielensDataSet utilizada\n",
        "         - model: o modelo carregado com os melhores pesos\n",
        "        \"\"\"\n",
        "        dataset = MovielensDataSet(\n",
        "            datapack,\n",
        "            dataset_name=self.dataset,\n",
        "            train_format='sequential_packed',\n",
        "            test_format='sequential'\n",
        "        )\n",
        "        dataset.info()\n",
        "        evaluator = Evaluator(dataset, self.topn)\n",
        "        n_items = len(dataset.item_index)\n",
        "        model = SASRecModel(config, n_items)    # Ajusta e carrega o state_dict\n",
        "        self._load_adjusted_state_dict(model.model, model_state)\n",
        "        self.logger.info(\"Iniciando avaliação no conjunto de teste...\")\n",
        "        evaluator.submit(model, step=0, args=(None,))\n",
        "        results = evaluator.most_recent_results\n",
        "        score = results.loc[f'{self.target_metric.value.upper()}@{self.topn}', 'score']\n",
        "        return score, results, evaluator, dataset, model\n",
        "\n",
        "    def run(self) -> None:\n",
        "        ts = datetime.now().strftime(\"%d-%m-%Y_%H-%M-%S\")\n",
        "        study_name = f'{self.model}_{self.dataset}_{self.target_metric}_{ts}'\n",
        "        # Prepara os conjuntos de dados (treino/validação e teste)\n",
        "        tune_datapack, test_datapack = MovieLensDataSetup(\n",
        "            self.dataset, time_offset_q=[self.time_offset] * 2\n",
        "        ).prepare_data()\n",
        "\n",
        "        config = return_config()\n",
        "        if config.get('maxlen') is None:\n",
        "            config['maxlen'] = defaults.sequence_length_movies\n",
        "\n",
        "        if self.save_config:\n",
        "            save_config(config=config, experiment_name=study_name)\n",
        "\n",
        "        # Fase de treinamento\n",
        "        best_model_state, train_score, train_results, train_evaluator, n_items, train_dataset = self._train_model(tune_datapack, config)\n",
        "        self.logger.info(f\"Score de treinamento: {train_score:.4f}\")\n",
        "\n",
        "        if best_model_state is not None:\n",
        "            best_model_path = f\"/home/hygo/Development/recommendations/data/results/{study_name}_best_model.pth\"\n",
        "            torch.save(best_model_state, best_model_path)\n",
        "            self.logger.info(f\"Pesos do melhor modelo salvos em {best_model_path}\")\n",
        "        else:\n",
        "            self.logger.warning(\"Nenhum estado de melhor modelo foi capturado.\")\n",
        "\n",
        "        # Fase de avaliação no conjunto de teste\n",
        "        if self.check_best:\n",
        "            test_score, test_results, test_evaluator, test_dataset, best_model = self._evaluate_model(test_datapack, config, best_model_state)\n",
        "            self.logger.info(f\"Score no conjunto de teste: {test_score:.4f}\")\n",
        "            self.logger.info(f\"Resultados no conjunto de teste:\\n{test_results}\")\n",
        "            if self.dump_results:\n",
        "                dump_trial_results(test_evaluator.results, config, f'{study_name}_TEST')\n",
        "\n",
        "            # Exemplo de recomendação para um usuário (usando o primeiro usuário do dataset de teste)\n",
        "            try:\n",
        "                sample_user = 101\n",
        "                # Supondo que 'user_histories' seja um dicionário ou lista com os históricos dos usuários:\n",
        "                sample_history = test_dataset.test.loc[sample_user]\n",
        "                recommendations = best_model.recommend(sample_history, self.topn, user=sample_user)\n",
        "                self.logger.info(f\"Recomendações para o usuário {sample_user}: {recommendations}\")\n",
        "            except Exception as e:\n",
        "                self.logger.error(f\"Erro ao gerar recomendação de exemplo: {e}\")"
      ],
      "metadata": {
        "id": "AbbQ_WG2nLft"
      },
      "id": "AbbQ_WG2nLft",
      "execution_count": 14,
      "outputs": []
    },
    {
      "cell_type": "code",
      "source": [
        "SasRecRunner().run()"
      ],
      "metadata": {
        "colab": {
          "base_uri": "https://localhost:8080/"
        },
        "id": "kQPFurgmnPPO",
        "outputId": "20769125-cc5c-4a6d-ceac-8a387e8026f8"
      },
      "id": "kQPFurgmnPPO",
      "execution_count": null,
      "outputs": [
        {
          "output_type": "stream",
          "name": "stderr",
          "text": [
            "2025-03-19 18:39:46,235 - DataSet - INFO - Formatos do dataset: {'train': 'sequential_packed', 'test': 'sequential'}.\n",
            "INFO:DataSet:Formatos do dataset: {'train': 'sequential_packed', 'test': 'sequential'}.\n",
            "2025-03-19 18:39:46,240 - DataSet - INFO - O dataset MovieLensDataset.ML_32M possui 49186 interações de teste entre 1791 usuários e 9641 itens.\n",
            "INFO:DataSet:O dataset MovieLensDataset.ML_32M possui 49186 interações de teste entre 1791 usuários e 9641 itens.\n",
            "2025-03-19 18:39:46,240 - SasRecRunner - INFO - Starting training with configuration: {'batch_size': 512, 'learning_rate': 0.01, 'hidden_units': 128, 'num_blocks': 3, 'dropout_rate': 0.2, 'num_heads': 2, 'l2_emb': 0.0, 'maxlen': 200, 'batch_quota': None, 'seed': 0, 'sampler_seed': 789, 'device': None, 'max_epochs': 200}\n",
            "2025-03-19 18:39:46,240 - SasRecRunner - INFO - Starting training with configuration: {'batch_size': 512, 'learning_rate': 0.01, 'hidden_units': 128, 'num_blocks': 3, 'dropout_rate': 0.2, 'num_heads': 2, 'l2_emb': 0.0, 'maxlen': 200, 'batch_quota': None, 'seed': 0, 'sampler_seed': 789, 'device': None, 'max_epochs': 200}\n",
            "2025-03-19 18:39:46,240 - SasRecRunner - INFO - Starting training with configuration: {'batch_size': 512, 'learning_rate': 0.01, 'hidden_units': 128, 'num_blocks': 3, 'dropout_rate': 0.2, 'num_heads': 2, 'l2_emb': 0.0, 'maxlen': 200, 'batch_quota': None, 'seed': 0, 'sampler_seed': 789, 'device': None, 'max_epochs': 200}\n",
            "INFO:SasRecRunner:Starting training with configuration: {'batch_size': 512, 'learning_rate': 0.01, 'hidden_units': 128, 'num_blocks': 3, 'dropout_rate': 0.2, 'num_heads': 2, 'l2_emb': 0.0, 'maxlen': 200, 'batch_quota': None, 'seed': 0, 'sampler_seed': 789, 'device': None, 'max_epochs': 200}\n",
            "2025-03-19 18:39:46,242 - SasRecRunner - INFO - Target metric: NDCG@10\n",
            "2025-03-19 18:39:46,242 - SasRecRunner - INFO - Target metric: NDCG@10\n",
            "2025-03-19 18:39:46,242 - SasRecRunner - INFO - Target metric: NDCG@10\n",
            "INFO:SasRecRunner:Target metric: NDCG@10\n"
          ]
        },
        {
          "output_type": "stream",
          "name": "stdout",
          "text": [
            "2.6.0+cu124\n",
            "12.4\n"
          ]
        },
        {
          "output_type": "stream",
          "name": "stderr",
          "text": [
            "2025-03-19 18:39:55,214 - SasRecRunner - INFO - Processando época 1/200\n",
            "2025-03-19 18:39:55,214 - SasRecRunner - INFO - Processando época 1/200\n",
            "2025-03-19 18:39:55,214 - SasRecRunner - INFO - Processando época 1/200\n",
            "INFO:SasRecRunner:Processando época 1/200\n",
            "2025-03-19 18:41:11,079 - SasRecRunner - INFO - Processando época 2/200\n",
            "2025-03-19 18:41:11,079 - SasRecRunner - INFO - Processando época 2/200\n",
            "2025-03-19 18:41:11,079 - SasRecRunner - INFO - Processando época 2/200\n",
            "INFO:SasRecRunner:Processando época 2/200\n",
            "2025-03-19 18:42:26,069 - SasRecRunner - INFO - Processando época 3/200\n",
            "2025-03-19 18:42:26,069 - SasRecRunner - INFO - Processando época 3/200\n",
            "2025-03-19 18:42:26,069 - SasRecRunner - INFO - Processando época 3/200\n",
            "INFO:SasRecRunner:Processando época 3/200\n"
          ]
        }
      ]
    }
  ],
  "metadata": {
    "kernelspec": {
      "display_name": "Python 3",
      "name": "python3"
    },
    "language_info": {
      "codemirror_mode": {
        "name": "ipython",
        "version": 2
      },
      "file_extension": ".py",
      "mimetype": "text/x-python",
      "name": "python",
      "nbconvert_exporter": "python",
      "pygments_lexer": "ipython2",
      "version": "2.7.6"
    },
    "colab": {
      "provenance": [],
      "gpuType": "L4"
    },
    "accelerator": "GPU"
  },
  "nbformat": 4,
  "nbformat_minor": 5
}